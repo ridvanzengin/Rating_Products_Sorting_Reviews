{
 "cells": [
  {
   "cell_type": "markdown",
   "metadata": {},
   "source": [
    "## Rating Products & Sorting Reviews in Amazon Data\n"
   ]
  },
  {
   "cell_type": "markdown",
   "metadata": {},
   "source": [
    "#### In this project I tried to apply product rating and review sorting methods to Amazon Data\n",
    "\n",
    "#### 1- Our first goal is to calculate the rating of a product and understand its trend. \n",
    "\n",
    "#### 2 -Our second goal is to determine 5 reviews out of almost 5000 reviews to list under the product"
   ]
  },
  {
   "cell_type": "markdown",
   "metadata": {},
   "source": [
    "##### Link of data is as follows. But we will use a sub_set of data \n",
    "##### http://jmcauley.ucsd.edu/data/amazon/links.html\n",
    "\n",
    "#### Informations about data:\n",
    "\n",
    "##### reviewerID - ID of the reviewer, e.g. A2SUAM1J3GNN3B\n",
    "##### asin - ID of the product, e.g. 0000013714\n",
    "##### reviewerName - name of the reviewer\n",
    "##### helpful - helpfulness rating of the review, e.g. 2/3\n",
    "##### reviewText - text of the review\n",
    "##### overall - rating of the product\n",
    "##### summary - summary of the review\n",
    "##### unixReviewTime - time of the review (unix time)\n",
    "##### reviewTime - time of the review (raw)"
   ]
  },
  {
   "cell_type": "markdown",
   "metadata": {},
   "source": [
    "### Imports"
   ]
  },
  {
   "cell_type": "code",
   "execution_count": 1,
   "metadata": {},
   "outputs": [],
   "source": [
    "import pandas as pd\n",
    "import scipy.stats as st\n",
    "import math\n",
    "import gzip"
   ]
  },
  {
   "cell_type": "markdown",
   "metadata": {},
   "source": [
    "##### We will take a look only the product that has received the highest number of reviews.\n",
    "##### There for the fallowing csv file consist of only one products information"
   ]
  },
  {
   "cell_type": "markdown",
   "metadata": {},
   "source": [
    "### Rating Product"
   ]
  },
  {
   "cell_type": "code",
   "execution_count": 2,
   "metadata": {},
   "outputs": [],
   "source": [
    "df= pd.read_csv(\"df_sub.csv\")\n",
    "pd.set_option('display.float_format', lambda x: '%.2f' % x)"
   ]
  },
  {
   "cell_type": "code",
   "execution_count": 3,
   "metadata": {},
   "outputs": [
    {
     "data": {
      "text/html": [
       "<div>\n",
       "<style scoped>\n",
       "    .dataframe tbody tr th:only-of-type {\n",
       "        vertical-align: middle;\n",
       "    }\n",
       "\n",
       "    .dataframe tbody tr th {\n",
       "        vertical-align: top;\n",
       "    }\n",
       "\n",
       "    .dataframe thead th {\n",
       "        text-align: right;\n",
       "    }\n",
       "</style>\n",
       "<table border=\"1\" class=\"dataframe\">\n",
       "  <thead>\n",
       "    <tr style=\"text-align: right;\">\n",
       "      <th></th>\n",
       "      <th>reviewerID</th>\n",
       "      <th>asin</th>\n",
       "      <th>reviewerName</th>\n",
       "      <th>helpful</th>\n",
       "      <th>reviewText</th>\n",
       "      <th>overall</th>\n",
       "      <th>summary</th>\n",
       "      <th>unixReviewTime</th>\n",
       "      <th>reviewTime</th>\n",
       "    </tr>\n",
       "  </thead>\n",
       "  <tbody>\n",
       "    <tr>\n",
       "      <th>0</th>\n",
       "      <td>A3SBTW3WS4IQSN</td>\n",
       "      <td>B007WTAJTO</td>\n",
       "      <td>NaN</td>\n",
       "      <td>[0, 0]</td>\n",
       "      <td>No issues.</td>\n",
       "      <td>4.00</td>\n",
       "      <td>Four Stars</td>\n",
       "      <td>1406073600</td>\n",
       "      <td>07 23, 2014</td>\n",
       "    </tr>\n",
       "    <tr>\n",
       "      <th>1</th>\n",
       "      <td>A18K1ODH1I2MVB</td>\n",
       "      <td>B007WTAJTO</td>\n",
       "      <td>0mie</td>\n",
       "      <td>[0, 0]</td>\n",
       "      <td>Purchased this for my device, it worked as adv...</td>\n",
       "      <td>5.00</td>\n",
       "      <td>MOAR SPACE!!!</td>\n",
       "      <td>1382659200</td>\n",
       "      <td>10 25, 2013</td>\n",
       "    </tr>\n",
       "    <tr>\n",
       "      <th>2</th>\n",
       "      <td>A2FII3I2MBMUIA</td>\n",
       "      <td>B007WTAJTO</td>\n",
       "      <td>1K3</td>\n",
       "      <td>[0, 0]</td>\n",
       "      <td>it works as expected. I should have sprung for...</td>\n",
       "      <td>4.00</td>\n",
       "      <td>nothing to really say....</td>\n",
       "      <td>1356220800</td>\n",
       "      <td>12 23, 2012</td>\n",
       "    </tr>\n",
       "    <tr>\n",
       "      <th>3</th>\n",
       "      <td>A3H99DFEG68SR</td>\n",
       "      <td>B007WTAJTO</td>\n",
       "      <td>1m2</td>\n",
       "      <td>[0, 0]</td>\n",
       "      <td>This think has worked out great.Had a diff. br...</td>\n",
       "      <td>5.00</td>\n",
       "      <td>Great buy at this price!!!  *** UPDATE</td>\n",
       "      <td>1384992000</td>\n",
       "      <td>11 21, 2013</td>\n",
       "    </tr>\n",
       "    <tr>\n",
       "      <th>4</th>\n",
       "      <td>A375ZM4U047O79</td>\n",
       "      <td>B007WTAJTO</td>\n",
       "      <td>2&amp;amp;1/2Men</td>\n",
       "      <td>[0, 0]</td>\n",
       "      <td>Bought it with Retail Packaging, arrived legit...</td>\n",
       "      <td>5.00</td>\n",
       "      <td>best deal around</td>\n",
       "      <td>1373673600</td>\n",
       "      <td>07 13, 2013</td>\n",
       "    </tr>\n",
       "  </tbody>\n",
       "</table>\n",
       "</div>"
      ],
      "text/plain": [
       "       reviewerID        asin  reviewerName helpful  \\\n",
       "0  A3SBTW3WS4IQSN  B007WTAJTO           NaN  [0, 0]   \n",
       "1  A18K1ODH1I2MVB  B007WTAJTO          0mie  [0, 0]   \n",
       "2  A2FII3I2MBMUIA  B007WTAJTO           1K3  [0, 0]   \n",
       "3   A3H99DFEG68SR  B007WTAJTO           1m2  [0, 0]   \n",
       "4  A375ZM4U047O79  B007WTAJTO  2&amp;1/2Men  [0, 0]   \n",
       "\n",
       "                                          reviewText  overall  \\\n",
       "0                                         No issues.     4.00   \n",
       "1  Purchased this for my device, it worked as adv...     5.00   \n",
       "2  it works as expected. I should have sprung for...     4.00   \n",
       "3  This think has worked out great.Had a diff. br...     5.00   \n",
       "4  Bought it with Retail Packaging, arrived legit...     5.00   \n",
       "\n",
       "                                  summary  unixReviewTime   reviewTime  \n",
       "0                              Four Stars      1406073600  07 23, 2014  \n",
       "1                           MOAR SPACE!!!      1382659200  10 25, 2013  \n",
       "2               nothing to really say....      1356220800  12 23, 2012  \n",
       "3  Great buy at this price!!!  *** UPDATE      1384992000  11 21, 2013  \n",
       "4                        best deal around      1373673600  07 13, 2013  "
      ]
     },
     "execution_count": 3,
     "metadata": {},
     "output_type": "execute_result"
    }
   ],
   "source": [
    "df.head()"
   ]
  },
  {
   "cell_type": "code",
   "execution_count": 4,
   "metadata": {},
   "outputs": [
    {
     "name": "stdout",
     "output_type": "stream",
     "text": [
      "<class 'pandas.core.frame.DataFrame'>\n",
      "RangeIndex: 4915 entries, 0 to 4914\n",
      "Data columns (total 9 columns):\n",
      " #   Column          Non-Null Count  Dtype  \n",
      "---  ------          --------------  -----  \n",
      " 0   reviewerID      4915 non-null   object \n",
      " 1   asin            4915 non-null   object \n",
      " 2   reviewerName    4914 non-null   object \n",
      " 3   helpful         4915 non-null   object \n",
      " 4   reviewText      4914 non-null   object \n",
      " 5   overall         4915 non-null   float64\n",
      " 6   summary         4915 non-null   object \n",
      " 7   unixReviewTime  4915 non-null   int64  \n",
      " 8   reviewTime      4915 non-null   object \n",
      "dtypes: float64(1), int64(1), object(7)\n",
      "memory usage: 345.7+ KB\n"
     ]
    }
   ],
   "source": [
    "df.info()"
   ]
  },
  {
   "cell_type": "markdown",
   "metadata": {},
   "source": [
    "##### As you can see our review time variable is in object type lets convert it to datetime"
   ]
  },
  {
   "cell_type": "code",
   "execution_count": 5,
   "metadata": {},
   "outputs": [],
   "source": [
    "df['reviewTime'] = pd.to_datetime(df['reviewTime'], dayfirst=True)"
   ]
  },
  {
   "cell_type": "markdown",
   "metadata": {},
   "source": [
    "##### Lets see what is the mean of overall rating of this product"
   ]
  },
  {
   "cell_type": "code",
   "execution_count": 6,
   "metadata": {},
   "outputs": [
    {
     "data": {
      "text/plain": [
       "4.587589013224822"
      ]
     },
     "execution_count": 6,
     "metadata": {},
     "output_type": "execute_result"
    }
   ],
   "source": [
    "df[\"overall\"].mean()"
   ]
  },
  {
   "cell_type": "markdown",
   "metadata": {},
   "source": [
    "##### Lets see how the product's rating has changed over time and understand its trend "
   ]
  },
  {
   "cell_type": "markdown",
   "metadata": {},
   "source": [
    "##### To do that lets create a variable \"day_diff\" to differentiate old ratings and new ratings"
   ]
  },
  {
   "cell_type": "markdown",
   "metadata": {},
   "source": [
    "##### As this data is from 2014, lets define the current date as some day in 2014 to calculate ratings age in days"
   ]
  },
  {
   "cell_type": "code",
   "execution_count": 7,
   "metadata": {},
   "outputs": [],
   "source": [
    "current_date = pd.to_datetime('2014-12-08 0:0:0')\n",
    "df[\"day_diff\"] = (current_date - df['reviewTime']).dt.days"
   ]
  },
  {
   "cell_type": "markdown",
   "metadata": {},
   "source": [
    "##### Lets see what it is look like"
   ]
  },
  {
   "cell_type": "code",
   "execution_count": 8,
   "metadata": {},
   "outputs": [
    {
     "data": {
      "text/html": [
       "<div>\n",
       "<style scoped>\n",
       "    .dataframe tbody tr th:only-of-type {\n",
       "        vertical-align: middle;\n",
       "    }\n",
       "\n",
       "    .dataframe tbody tr th {\n",
       "        vertical-align: top;\n",
       "    }\n",
       "\n",
       "    .dataframe thead th {\n",
       "        text-align: right;\n",
       "    }\n",
       "</style>\n",
       "<table border=\"1\" class=\"dataframe\">\n",
       "  <thead>\n",
       "    <tr style=\"text-align: right;\">\n",
       "      <th></th>\n",
       "      <th>reviewerID</th>\n",
       "      <th>asin</th>\n",
       "      <th>reviewerName</th>\n",
       "      <th>helpful</th>\n",
       "      <th>reviewText</th>\n",
       "      <th>overall</th>\n",
       "      <th>summary</th>\n",
       "      <th>unixReviewTime</th>\n",
       "      <th>reviewTime</th>\n",
       "      <th>day_diff</th>\n",
       "    </tr>\n",
       "  </thead>\n",
       "  <tbody>\n",
       "    <tr>\n",
       "      <th>0</th>\n",
       "      <td>A3SBTW3WS4IQSN</td>\n",
       "      <td>B007WTAJTO</td>\n",
       "      <td>NaN</td>\n",
       "      <td>[0, 0]</td>\n",
       "      <td>No issues.</td>\n",
       "      <td>4.00</td>\n",
       "      <td>Four Stars</td>\n",
       "      <td>1406073600</td>\n",
       "      <td>2014-07-23</td>\n",
       "      <td>138</td>\n",
       "    </tr>\n",
       "    <tr>\n",
       "      <th>1</th>\n",
       "      <td>A18K1ODH1I2MVB</td>\n",
       "      <td>B007WTAJTO</td>\n",
       "      <td>0mie</td>\n",
       "      <td>[0, 0]</td>\n",
       "      <td>Purchased this for my device, it worked as adv...</td>\n",
       "      <td>5.00</td>\n",
       "      <td>MOAR SPACE!!!</td>\n",
       "      <td>1382659200</td>\n",
       "      <td>2013-10-25</td>\n",
       "      <td>409</td>\n",
       "    </tr>\n",
       "    <tr>\n",
       "      <th>2</th>\n",
       "      <td>A2FII3I2MBMUIA</td>\n",
       "      <td>B007WTAJTO</td>\n",
       "      <td>1K3</td>\n",
       "      <td>[0, 0]</td>\n",
       "      <td>it works as expected. I should have sprung for...</td>\n",
       "      <td>4.00</td>\n",
       "      <td>nothing to really say....</td>\n",
       "      <td>1356220800</td>\n",
       "      <td>2012-12-23</td>\n",
       "      <td>715</td>\n",
       "    </tr>\n",
       "    <tr>\n",
       "      <th>3</th>\n",
       "      <td>A3H99DFEG68SR</td>\n",
       "      <td>B007WTAJTO</td>\n",
       "      <td>1m2</td>\n",
       "      <td>[0, 0]</td>\n",
       "      <td>This think has worked out great.Had a diff. br...</td>\n",
       "      <td>5.00</td>\n",
       "      <td>Great buy at this price!!!  *** UPDATE</td>\n",
       "      <td>1384992000</td>\n",
       "      <td>2013-11-21</td>\n",
       "      <td>382</td>\n",
       "    </tr>\n",
       "    <tr>\n",
       "      <th>4</th>\n",
       "      <td>A375ZM4U047O79</td>\n",
       "      <td>B007WTAJTO</td>\n",
       "      <td>2&amp;amp;1/2Men</td>\n",
       "      <td>[0, 0]</td>\n",
       "      <td>Bought it with Retail Packaging, arrived legit...</td>\n",
       "      <td>5.00</td>\n",
       "      <td>best deal around</td>\n",
       "      <td>1373673600</td>\n",
       "      <td>2013-07-13</td>\n",
       "      <td>513</td>\n",
       "    </tr>\n",
       "  </tbody>\n",
       "</table>\n",
       "</div>"
      ],
      "text/plain": [
       "       reviewerID        asin  reviewerName helpful  \\\n",
       "0  A3SBTW3WS4IQSN  B007WTAJTO           NaN  [0, 0]   \n",
       "1  A18K1ODH1I2MVB  B007WTAJTO          0mie  [0, 0]   \n",
       "2  A2FII3I2MBMUIA  B007WTAJTO           1K3  [0, 0]   \n",
       "3   A3H99DFEG68SR  B007WTAJTO           1m2  [0, 0]   \n",
       "4  A375ZM4U047O79  B007WTAJTO  2&amp;1/2Men  [0, 0]   \n",
       "\n",
       "                                          reviewText  overall  \\\n",
       "0                                         No issues.     4.00   \n",
       "1  Purchased this for my device, it worked as adv...     5.00   \n",
       "2  it works as expected. I should have sprung for...     4.00   \n",
       "3  This think has worked out great.Had a diff. br...     5.00   \n",
       "4  Bought it with Retail Packaging, arrived legit...     5.00   \n",
       "\n",
       "                                  summary  unixReviewTime reviewTime  day_diff  \n",
       "0                              Four Stars      1406073600 2014-07-23       138  \n",
       "1                           MOAR SPACE!!!      1382659200 2013-10-25       409  \n",
       "2               nothing to really say....      1356220800 2012-12-23       715  \n",
       "3  Great buy at this price!!!  *** UPDATE      1384992000 2013-11-21       382  \n",
       "4                        best deal around      1373673600 2013-07-13       513  "
      ]
     },
     "execution_count": 8,
     "metadata": {},
     "output_type": "execute_result"
    }
   ],
   "source": [
    "df.head()"
   ]
  },
  {
   "cell_type": "markdown",
   "metadata": {},
   "source": [
    "##### Now lets use quantile values to set treshold values to score the age of rating.\n",
    "\n"
   ]
  },
  {
   "cell_type": "code",
   "execution_count": 9,
   "metadata": {},
   "outputs": [],
   "source": [
    "a = df[\"day_diff\"].quantile(0.25)\n",
    "b = df[\"day_diff\"].quantile(0.50)\n",
    "c = df[\"day_diff\"].quantile(0.75)"
   ]
  },
  {
   "cell_type": "markdown",
   "metadata": {},
   "source": [
    "##### Now lets use these quantile values to set our own weighted rating score which is in favor of recent ratings"
   ]
  },
  {
   "cell_type": "code",
   "execution_count": 10,
   "metadata": {},
   "outputs": [
    {
     "data": {
      "text/plain": [
       "4.595593165128118"
      ]
     },
     "execution_count": 10,
     "metadata": {},
     "output_type": "execute_result"
    }
   ],
   "source": [
    "df.loc[df[\"day_diff\"] <= a, \"overall\"].mean() * 28 / 100 + \\\n",
    "    df.loc[(df[\"day_diff\"] > a) & (df[\"day_diff\"] <= b), \"overall\"].mean() * 26 / 100 + \\\n",
    "    df.loc[(df[\"day_diff\"] > b) & (df[\"day_diff\"] <= c), \"overall\"].mean() * 24 / 100 + \\\n",
    "    df.loc[(df[\"day_diff\"] > c), \"overall\"].mean() * 22 / 100"
   ]
  },
  {
   "cell_type": "markdown",
   "metadata": {},
   "source": [
    "##### Well as you can see our weighted rating resulted better than the mean we calculated above. This means that the rating of our product is in a trend to increase"
   ]
  },
  {
   "cell_type": "markdown",
   "metadata": {},
   "source": [
    "### Sorting Reviews"
   ]
  },
  {
   "cell_type": "markdown",
   "metadata": {},
   "source": [
    "##### Now let say our goal is to determine 5 user reviews to list under the product\n",
    "##### Which reviews deserved to be listed under the product?\n",
    "##### Lets find out.\n"
   ]
  },
  {
   "cell_type": "code",
   "execution_count": 11,
   "metadata": {},
   "outputs": [
    {
     "data": {
      "text/html": [
       "<div>\n",
       "<style scoped>\n",
       "    .dataframe tbody tr th:only-of-type {\n",
       "        vertical-align: middle;\n",
       "    }\n",
       "\n",
       "    .dataframe tbody tr th {\n",
       "        vertical-align: top;\n",
       "    }\n",
       "\n",
       "    .dataframe thead th {\n",
       "        text-align: right;\n",
       "    }\n",
       "</style>\n",
       "<table border=\"1\" class=\"dataframe\">\n",
       "  <thead>\n",
       "    <tr style=\"text-align: right;\">\n",
       "      <th></th>\n",
       "      <th>reviewerID</th>\n",
       "      <th>asin</th>\n",
       "      <th>reviewerName</th>\n",
       "      <th>helpful</th>\n",
       "      <th>reviewText</th>\n",
       "      <th>overall</th>\n",
       "      <th>summary</th>\n",
       "      <th>unixReviewTime</th>\n",
       "      <th>reviewTime</th>\n",
       "      <th>day_diff</th>\n",
       "    </tr>\n",
       "  </thead>\n",
       "  <tbody>\n",
       "    <tr>\n",
       "      <th>0</th>\n",
       "      <td>A3SBTW3WS4IQSN</td>\n",
       "      <td>B007WTAJTO</td>\n",
       "      <td>NaN</td>\n",
       "      <td>[0, 0]</td>\n",
       "      <td>No issues.</td>\n",
       "      <td>4.00</td>\n",
       "      <td>Four Stars</td>\n",
       "      <td>1406073600</td>\n",
       "      <td>2014-07-23</td>\n",
       "      <td>138</td>\n",
       "    </tr>\n",
       "    <tr>\n",
       "      <th>1</th>\n",
       "      <td>A18K1ODH1I2MVB</td>\n",
       "      <td>B007WTAJTO</td>\n",
       "      <td>0mie</td>\n",
       "      <td>[0, 0]</td>\n",
       "      <td>Purchased this for my device, it worked as adv...</td>\n",
       "      <td>5.00</td>\n",
       "      <td>MOAR SPACE!!!</td>\n",
       "      <td>1382659200</td>\n",
       "      <td>2013-10-25</td>\n",
       "      <td>409</td>\n",
       "    </tr>\n",
       "    <tr>\n",
       "      <th>2</th>\n",
       "      <td>A2FII3I2MBMUIA</td>\n",
       "      <td>B007WTAJTO</td>\n",
       "      <td>1K3</td>\n",
       "      <td>[0, 0]</td>\n",
       "      <td>it works as expected. I should have sprung for...</td>\n",
       "      <td>4.00</td>\n",
       "      <td>nothing to really say....</td>\n",
       "      <td>1356220800</td>\n",
       "      <td>2012-12-23</td>\n",
       "      <td>715</td>\n",
       "    </tr>\n",
       "    <tr>\n",
       "      <th>3</th>\n",
       "      <td>A3H99DFEG68SR</td>\n",
       "      <td>B007WTAJTO</td>\n",
       "      <td>1m2</td>\n",
       "      <td>[0, 0]</td>\n",
       "      <td>This think has worked out great.Had a diff. br...</td>\n",
       "      <td>5.00</td>\n",
       "      <td>Great buy at this price!!!  *** UPDATE</td>\n",
       "      <td>1384992000</td>\n",
       "      <td>2013-11-21</td>\n",
       "      <td>382</td>\n",
       "    </tr>\n",
       "    <tr>\n",
       "      <th>4</th>\n",
       "      <td>A375ZM4U047O79</td>\n",
       "      <td>B007WTAJTO</td>\n",
       "      <td>2&amp;amp;1/2Men</td>\n",
       "      <td>[0, 0]</td>\n",
       "      <td>Bought it with Retail Packaging, arrived legit...</td>\n",
       "      <td>5.00</td>\n",
       "      <td>best deal around</td>\n",
       "      <td>1373673600</td>\n",
       "      <td>2013-07-13</td>\n",
       "      <td>513</td>\n",
       "    </tr>\n",
       "  </tbody>\n",
       "</table>\n",
       "</div>"
      ],
      "text/plain": [
       "       reviewerID        asin  reviewerName helpful  \\\n",
       "0  A3SBTW3WS4IQSN  B007WTAJTO           NaN  [0, 0]   \n",
       "1  A18K1ODH1I2MVB  B007WTAJTO          0mie  [0, 0]   \n",
       "2  A2FII3I2MBMUIA  B007WTAJTO           1K3  [0, 0]   \n",
       "3   A3H99DFEG68SR  B007WTAJTO           1m2  [0, 0]   \n",
       "4  A375ZM4U047O79  B007WTAJTO  2&amp;1/2Men  [0, 0]   \n",
       "\n",
       "                                          reviewText  overall  \\\n",
       "0                                         No issues.     4.00   \n",
       "1  Purchased this for my device, it worked as adv...     5.00   \n",
       "2  it works as expected. I should have sprung for...     4.00   \n",
       "3  This think has worked out great.Had a diff. br...     5.00   \n",
       "4  Bought it with Retail Packaging, arrived legit...     5.00   \n",
       "\n",
       "                                  summary  unixReviewTime reviewTime  day_diff  \n",
       "0                              Four Stars      1406073600 2014-07-23       138  \n",
       "1                           MOAR SPACE!!!      1382659200 2013-10-25       409  \n",
       "2               nothing to really say....      1356220800 2012-12-23       715  \n",
       "3  Great buy at this price!!!  *** UPDATE      1384992000 2013-11-21       382  \n",
       "4                        best deal around      1373673600 2013-07-13       513  "
      ]
     },
     "execution_count": 11,
     "metadata": {},
     "output_type": "execute_result"
    }
   ],
   "source": [
    "df.head()"
   ]
  },
  {
   "cell_type": "markdown",
   "metadata": {},
   "source": [
    "##### We hava a variabale \"helpful\" as you can see above lets make use of it. The first value in helpful variable represents how many times a review voted as helpful and the second value represents the total vote recived for rach reviews\n",
    "##### As we are not going to use some variables lets get rid of them \n",
    "##### Also lets sort the values according to their total vote given hepful or not"
   ]
  },
  {
   "cell_type": "code",
   "execution_count": 12,
   "metadata": {},
   "outputs": [
    {
     "data": {
      "text/html": [
       "<div>\n",
       "<style scoped>\n",
       "    .dataframe tbody tr th:only-of-type {\n",
       "        vertical-align: middle;\n",
       "    }\n",
       "\n",
       "    .dataframe tbody tr th {\n",
       "        vertical-align: top;\n",
       "    }\n",
       "\n",
       "    .dataframe thead th {\n",
       "        text-align: right;\n",
       "    }\n",
       "</style>\n",
       "<table border=\"1\" class=\"dataframe\">\n",
       "  <thead>\n",
       "    <tr style=\"text-align: right;\">\n",
       "      <th></th>\n",
       "      <th>helpful</th>\n",
       "      <th>reviewText</th>\n",
       "      <th>overall</th>\n",
       "      <th>helpful_yes</th>\n",
       "      <th>total_vote</th>\n",
       "      <th>helpful_no</th>\n",
       "    </tr>\n",
       "  </thead>\n",
       "  <tbody>\n",
       "    <tr>\n",
       "      <th>2031</th>\n",
       "      <td>[1952, 2020]</td>\n",
       "      <td>[[ UPDATE - 6/19/2014 ]]So my lovely wife boug...</td>\n",
       "      <td>5.00</td>\n",
       "      <td>1952</td>\n",
       "      <td>2020</td>\n",
       "      <td>68</td>\n",
       "    </tr>\n",
       "    <tr>\n",
       "      <th>4212</th>\n",
       "      <td>[1568, 1694]</td>\n",
       "      <td>NOTE:  please read the last update (scroll to ...</td>\n",
       "      <td>1.00</td>\n",
       "      <td>1568</td>\n",
       "      <td>1694</td>\n",
       "      <td>126</td>\n",
       "    </tr>\n",
       "    <tr>\n",
       "      <th>3449</th>\n",
       "      <td>[1428, 1505]</td>\n",
       "      <td>I have tested dozens of SDHC and micro-SDHC ca...</td>\n",
       "      <td>5.00</td>\n",
       "      <td>1428</td>\n",
       "      <td>1505</td>\n",
       "      <td>77</td>\n",
       "    </tr>\n",
       "    <tr>\n",
       "      <th>317</th>\n",
       "      <td>[422, 495]</td>\n",
       "      <td>If your card gets hot enough to be painful, it...</td>\n",
       "      <td>1.00</td>\n",
       "      <td>422</td>\n",
       "      <td>495</td>\n",
       "      <td>73</td>\n",
       "    </tr>\n",
       "    <tr>\n",
       "      <th>2909</th>\n",
       "      <td>[53, 236]</td>\n",
       "      <td>I know armed with this in my Android tablet an...</td>\n",
       "      <td>4.00</td>\n",
       "      <td>53</td>\n",
       "      <td>236</td>\n",
       "      <td>183</td>\n",
       "    </tr>\n",
       "  </tbody>\n",
       "</table>\n",
       "</div>"
      ],
      "text/plain": [
       "           helpful                                         reviewText  \\\n",
       "2031  [1952, 2020]  [[ UPDATE - 6/19/2014 ]]So my lovely wife boug...   \n",
       "4212  [1568, 1694]  NOTE:  please read the last update (scroll to ...   \n",
       "3449  [1428, 1505]  I have tested dozens of SDHC and micro-SDHC ca...   \n",
       "317     [422, 495]  If your card gets hot enough to be painful, it...   \n",
       "2909     [53, 236]  I know armed with this in my Android tablet an...   \n",
       "\n",
       "      overall  helpful_yes  total_vote  helpful_no  \n",
       "2031     5.00         1952        2020          68  \n",
       "4212     1.00         1568        1694         126  \n",
       "3449     5.00         1428        1505          77  \n",
       "317      1.00          422         495          73  \n",
       "2909     4.00           53         236         183  "
      ]
     },
     "execution_count": 12,
     "metadata": {},
     "output_type": "execute_result"
    }
   ],
   "source": [
    "df = df[[\"helpful\",\"reviewText\",\"overall\"]]\n",
    "df['helpful_yes'] = df[['helpful']].applymap(lambda x : x.split(', ')[0].strip('[')).astype(int)\n",
    "df['total_vote'] = df[['helpful']].applymap(lambda x : x.split(', ')[1].strip(']')).astype(int)\n",
    "df['helpful_no'] = df['total_vote'] - df['helpful_yes']\n",
    "df = df.sort_values(\"total_vote\", ascending=False )\n",
    "df.head()"
   ]
  },
  {
   "cell_type": "markdown",
   "metadata": {},
   "source": [
    "##### As you can see above we first selected \"helpful\",\"reviewText\",\"overall\" variablesand then we created 3 variables 'helpful_yes','helpful_no' and 'total_vote' out of our good old variable \"helpful\""
   ]
  },
  {
   "cell_type": "markdown",
   "metadata": {},
   "source": [
    "##### Now lets define a simple function to calculate the average helpfulness score for each review"
   ]
  },
  {
   "cell_type": "code",
   "execution_count": 13,
   "metadata": {},
   "outputs": [],
   "source": [
    "def score_average(pos, neg):\n",
    "    if pos + neg == 0:\n",
    "        return 0\n",
    "    return pos / (pos + neg)"
   ]
  },
  {
   "cell_type": "code",
   "execution_count": 14,
   "metadata": {},
   "outputs": [
    {
     "data": {
      "text/html": [
       "<div>\n",
       "<style scoped>\n",
       "    .dataframe tbody tr th:only-of-type {\n",
       "        vertical-align: middle;\n",
       "    }\n",
       "\n",
       "    .dataframe tbody tr th {\n",
       "        vertical-align: top;\n",
       "    }\n",
       "\n",
       "    .dataframe thead th {\n",
       "        text-align: right;\n",
       "    }\n",
       "</style>\n",
       "<table border=\"1\" class=\"dataframe\">\n",
       "  <thead>\n",
       "    <tr style=\"text-align: right;\">\n",
       "      <th></th>\n",
       "      <th>helpful</th>\n",
       "      <th>reviewText</th>\n",
       "      <th>overall</th>\n",
       "      <th>helpful_yes</th>\n",
       "      <th>total_vote</th>\n",
       "      <th>helpful_no</th>\n",
       "      <th>average_score</th>\n",
       "    </tr>\n",
       "  </thead>\n",
       "  <tbody>\n",
       "    <tr>\n",
       "      <th>1989</th>\n",
       "      <td>[1, 1]</td>\n",
       "      <td>Perfect.  Took card put old 32gb card and tran...</td>\n",
       "      <td>5.00</td>\n",
       "      <td>1</td>\n",
       "      <td>1</td>\n",
       "      <td>0</td>\n",
       "      <td>1.00</td>\n",
       "    </tr>\n",
       "    <tr>\n",
       "      <th>4239</th>\n",
       "      <td>[1, 1]</td>\n",
       "      <td>I got this product exactly 1 month and 3 days ...</td>\n",
       "      <td>1.00</td>\n",
       "      <td>1</td>\n",
       "      <td>1</td>\n",
       "      <td>0</td>\n",
       "      <td>1.00</td>\n",
       "    </tr>\n",
       "    <tr>\n",
       "      <th>4258</th>\n",
       "      <td>[1, 1]</td>\n",
       "      <td>I ordered these cards at a great price during ...</td>\n",
       "      <td>2.00</td>\n",
       "      <td>1</td>\n",
       "      <td>1</td>\n",
       "      <td>0</td>\n",
       "      <td>1.00</td>\n",
       "    </tr>\n",
       "    <tr>\n",
       "      <th>1825</th>\n",
       "      <td>[1, 1]</td>\n",
       "      <td>I purchased this memory card to use to expand ...</td>\n",
       "      <td>5.00</td>\n",
       "      <td>1</td>\n",
       "      <td>1</td>\n",
       "      <td>0</td>\n",
       "      <td>1.00</td>\n",
       "    </tr>\n",
       "    <tr>\n",
       "      <th>2008</th>\n",
       "      <td>[1, 1]</td>\n",
       "      <td>This is the second one of these chips that I r...</td>\n",
       "      <td>5.00</td>\n",
       "      <td>1</td>\n",
       "      <td>1</td>\n",
       "      <td>0</td>\n",
       "      <td>1.00</td>\n",
       "    </tr>\n",
       "  </tbody>\n",
       "</table>\n",
       "</div>"
      ],
      "text/plain": [
       "     helpful                                         reviewText  overall  \\\n",
       "1989  [1, 1]  Perfect.  Took card put old 32gb card and tran...     5.00   \n",
       "4239  [1, 1]  I got this product exactly 1 month and 3 days ...     1.00   \n",
       "4258  [1, 1]  I ordered these cards at a great price during ...     2.00   \n",
       "1825  [1, 1]  I purchased this memory card to use to expand ...     5.00   \n",
       "2008  [1, 1]  This is the second one of these chips that I r...     5.00   \n",
       "\n",
       "      helpful_yes  total_vote  helpful_no  average_score  \n",
       "1989            1           1           0           1.00  \n",
       "4239            1           1           0           1.00  \n",
       "4258            1           1           0           1.00  \n",
       "1825            1           1           0           1.00  \n",
       "2008            1           1           0           1.00  "
      ]
     },
     "execution_count": 14,
     "metadata": {},
     "output_type": "execute_result"
    }
   ],
   "source": [
    "df[\"average_score\"] = df.apply(lambda x: score_average(x[\"helpful_yes\"], x[\"helpful_no\"]), axis=1)\n",
    "df = df.sort_values(\"average_score\", ascending=False )\n",
    "df.head()"
   ]
  },
  {
   "cell_type": "markdown",
   "metadata": {},
   "source": [
    "##### As you can see we created a score for each review according to given votes wheter helpful or not and listed them according to their scores. \n",
    "##### However as you can see this method has a weakness and favoring the reviews received 0 \"not helpful\" vote without considering how many votes received in total.\n",
    "##### For example if we use this method, while sorting the reviews under the product the review 1 below will be listed above the Review2 which is a catastrophic mistake companies fall into even nowadays\n",
    "\n",
    "##### Review1: 1 helpful, 0 not helpful\n",
    "##### Review2: 99 helpful, 1 not helpful\n",
    "\n",
    "##### That is why we have to do better than that. Luckyly good old uncle Wilson has a solution. Lets define another function in wich we will take all the parameters which are \"helpful, not helpful and total vote\"\n"
   ]
  },
  {
   "cell_type": "code",
   "execution_count": 15,
   "metadata": {},
   "outputs": [],
   "source": [
    "def wilson_lower(pos, neg, confidence=0.95):\n",
    "    \n",
    "    \"\"\"\n",
    "    \n",
    "    Function to provide lower bound of wilson score\n",
    "    :param pos: No of positive ratings\n",
    "    :param neg: Total number of ratings\n",
    "    :param confidence: Confidence interval, by default is 95 %\n",
    "    :return: Wilson Lower bound score\n",
    "    \n",
    "    \"\"\"\n",
    "    n = pos + neg\n",
    "    if n == 0:\n",
    "        return 0\n",
    "    z = st.norm.ppf(1 - (1 - confidence) / 2)\n",
    "    phat = 1.0 * pos / n\n",
    "    return (phat + z * z / (2 * n) - z * math.sqrt((phat * (1 - phat) + z * z / (4 * n)) / n)) / (1 + z * z / n)"
   ]
  },
  {
   "cell_type": "code",
   "execution_count": 16,
   "metadata": {},
   "outputs": [
    {
     "data": {
      "text/html": [
       "<div>\n",
       "<style scoped>\n",
       "    .dataframe tbody tr th:only-of-type {\n",
       "        vertical-align: middle;\n",
       "    }\n",
       "\n",
       "    .dataframe tbody tr th {\n",
       "        vertical-align: top;\n",
       "    }\n",
       "\n",
       "    .dataframe thead th {\n",
       "        text-align: right;\n",
       "    }\n",
       "</style>\n",
       "<table border=\"1\" class=\"dataframe\">\n",
       "  <thead>\n",
       "    <tr style=\"text-align: right;\">\n",
       "      <th></th>\n",
       "      <th>helpful</th>\n",
       "      <th>reviewText</th>\n",
       "      <th>overall</th>\n",
       "      <th>helpful_yes</th>\n",
       "      <th>total_vote</th>\n",
       "      <th>helpful_no</th>\n",
       "      <th>average_score</th>\n",
       "      <th>wilson_lower</th>\n",
       "    </tr>\n",
       "  </thead>\n",
       "  <tbody>\n",
       "    <tr>\n",
       "      <th>2031</th>\n",
       "      <td>[1952, 2020]</td>\n",
       "      <td>[[ UPDATE - 6/19/2014 ]]So my lovely wife boug...</td>\n",
       "      <td>5.00</td>\n",
       "      <td>1952</td>\n",
       "      <td>2020</td>\n",
       "      <td>68</td>\n",
       "      <td>0.97</td>\n",
       "      <td>0.96</td>\n",
       "    </tr>\n",
       "    <tr>\n",
       "      <th>3449</th>\n",
       "      <td>[1428, 1505]</td>\n",
       "      <td>I have tested dozens of SDHC and micro-SDHC ca...</td>\n",
       "      <td>5.00</td>\n",
       "      <td>1428</td>\n",
       "      <td>1505</td>\n",
       "      <td>77</td>\n",
       "      <td>0.95</td>\n",
       "      <td>0.94</td>\n",
       "    </tr>\n",
       "    <tr>\n",
       "      <th>4212</th>\n",
       "      <td>[1568, 1694]</td>\n",
       "      <td>NOTE:  please read the last update (scroll to ...</td>\n",
       "      <td>1.00</td>\n",
       "      <td>1568</td>\n",
       "      <td>1694</td>\n",
       "      <td>126</td>\n",
       "      <td>0.93</td>\n",
       "      <td>0.91</td>\n",
       "    </tr>\n",
       "    <tr>\n",
       "      <th>317</th>\n",
       "      <td>[422, 495]</td>\n",
       "      <td>If your card gets hot enough to be painful, it...</td>\n",
       "      <td>1.00</td>\n",
       "      <td>422</td>\n",
       "      <td>495</td>\n",
       "      <td>73</td>\n",
       "      <td>0.85</td>\n",
       "      <td>0.82</td>\n",
       "    </tr>\n",
       "    <tr>\n",
       "      <th>4672</th>\n",
       "      <td>[45, 49]</td>\n",
       "      <td>Sandisk announcement of the first 128GB micro ...</td>\n",
       "      <td>5.00</td>\n",
       "      <td>45</td>\n",
       "      <td>49</td>\n",
       "      <td>4</td>\n",
       "      <td>0.92</td>\n",
       "      <td>0.81</td>\n",
       "    </tr>\n",
       "  </tbody>\n",
       "</table>\n",
       "</div>"
      ],
      "text/plain": [
       "           helpful                                         reviewText  \\\n",
       "2031  [1952, 2020]  [[ UPDATE - 6/19/2014 ]]So my lovely wife boug...   \n",
       "3449  [1428, 1505]  I have tested dozens of SDHC and micro-SDHC ca...   \n",
       "4212  [1568, 1694]  NOTE:  please read the last update (scroll to ...   \n",
       "317     [422, 495]  If your card gets hot enough to be painful, it...   \n",
       "4672      [45, 49]  Sandisk announcement of the first 128GB micro ...   \n",
       "\n",
       "      overall  helpful_yes  total_vote  helpful_no  average_score  \\\n",
       "2031     5.00         1952        2020          68           0.97   \n",
       "3449     5.00         1428        1505          77           0.95   \n",
       "4212     1.00         1568        1694         126           0.93   \n",
       "317      1.00          422         495          73           0.85   \n",
       "4672     5.00           45          49           4           0.92   \n",
       "\n",
       "      wilson_lower  \n",
       "2031          0.96  \n",
       "3449          0.94  \n",
       "4212          0.91  \n",
       "317           0.82  \n",
       "4672          0.81  "
      ]
     },
     "execution_count": 16,
     "metadata": {},
     "output_type": "execute_result"
    }
   ],
   "source": [
    "df[\"wilson_lower\"] = df.apply(lambda x: wilson_lower(x[\"helpful_yes\"], x[\"helpful_no\"]), axis=1)\n",
    "df = df.sort_values(\"wilson_lower\", ascending=False )\n",
    "df.head()"
   ]
  },
  {
   "cell_type": "markdown",
   "metadata": {},
   "source": [
    "##### As you can see we created a wilson lower bound score for each review according to given votes wheter helpful or not and listed them according to their WLB scores. \n",
    "##### Note that by using this method we took all the variables regarding helpfulness of a review into consideration and succesfully listed them down "
   ]
  },
  {
   "cell_type": "markdown",
   "metadata": {},
   "source": [
    "### Conclusion"
   ]
  },
  {
   "cell_type": "markdown",
   "metadata": {},
   "source": [
    "##### In this project our goal was to calculate the rating of a product and understand its trend. To do that we created a function which calculates the rating of a product by favoring the recent votes given.\n",
    "\n",
    "##### Our other goal was to determine 5 reviews out of almost 5000 reviews to list under the product. To do that we made use of Wilson Lower Bound and listed our reviews according to their helpfulness score.\n",
    "\n"
   ]
  }
 ],
 "metadata": {
  "kernelspec": {
   "display_name": "Python 3",
   "language": "python",
   "name": "python3"
  },
  "language_info": {
   "codemirror_mode": {
    "name": "ipython",
    "version": 3
   },
   "file_extension": ".py",
   "mimetype": "text/x-python",
   "name": "python",
   "nbconvert_exporter": "python",
   "pygments_lexer": "ipython3",
   "version": "3.8.5"
  }
 },
 "nbformat": 4,
 "nbformat_minor": 4
}
